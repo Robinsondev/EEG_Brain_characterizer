{
 "cells": [
  {
   "cell_type": "code",
   "execution_count": 5,
   "metadata": {},
   "outputs": [],
   "source": [
    "import glob\n",
    "import re\n",
    "import numpy as np\n",
    "from dictances import bhattacharyya\n",
    "import sys\n",
    "import pandas as pd\n",
    "import matplotlib.pyplot as plt\n",
    "from matplotlib.pyplot import figure\n",
    "import os\n",
    "from scipy import signal\n",
    "%matplotlib inline"
   ]
  },
  {
   "cell_type": "code",
   "execution_count": 6,
   "metadata": {
    "scrolled": false
   },
   "outputs": [],
   "source": [
    "def find_all_probs(directory='',N = 10):\n",
    "    all_dirs=glob.glob(directory+\"example?*/\")\n",
    "    file_dict={}\n",
    "    for directory in all_dirs:\n",
    "        try:\n",
    "            prob_a_file_list=glob.glob(directory+\"prob_a_full_?*.txt\")\n",
    "            prob_a_file=prob_a_file_list[0]\n",
    "\n",
    "            prob_b_file_list=glob.glob(directory+\"prob_b_full_?*.txt\")\n",
    "            prob_b_file=prob_b_file_list[0]\n",
    "\n",
    "            prob_a_file = open(prob_a_file, \"r\")\n",
    "            prob_b_file = open(prob_b_file, \"r\")\n",
    "\n",
    "            prob_a_file_content=prob_a_file.read()\n",
    "            prob_b_file_content=prob_b_file.read()\n",
    "\n",
    "            prob_a_array=prob_a_file_content[1:-1].split(' ')\n",
    "            prob_b_array=prob_b_file_content[1:-1].split(' ')\n",
    "\n",
    "            prob_a_array=[item for item in prob_a_array if item!='']\n",
    "            prob_b_array=[item for item in prob_b_array if item!='']\n",
    "\n",
    "            prob_a_array=[float(item.replace('\\n','')) for item in prob_a_array]\n",
    "            prob_b_array=[float(item.replace('\\n','')) for item in prob_b_array]\n",
    "\n",
    "            prob_a_array_padded = np.pad(prob_a_array, (N//2, N-1-N//2), mode='edge')\n",
    "            prob_b_array_padded = np.pad(prob_b_array, (N//2, N-1-N//2), mode='edge')\n",
    "\n",
    "            prob_a_array_smooth = np.convolve(prob_a_array_padded, np.ones((N,))/N, mode='valid')\n",
    "            prob_b_array_smooth = np.convolve(prob_b_array_padded, np.ones((N,))/N, mode='valid')\n",
    "\n",
    "            prob_a_array_downsampled =  signal.resample(prob_a_array_smooth, 28)\n",
    "            prob_b_array_downsampled =  signal.resample(prob_b_array_smooth, 28)\n",
    "\n",
    "            max_a=max(prob_a_array_downsampled)\n",
    "            index_a=[ind for ind,val in enumerate(prob_a_array_downsampled) if val==max_a][0]\n",
    "            max_b=prob_b_array_downsampled[index_a]\n",
    "\n",
    "            freq=prob_a_file_list[0][prob_a_file_list[0].rfind('.')-3:prob_a_file_list[0].rfind('.')]\n",
    "            f = open(directory+\"max_peak_freq\"+freq+\".txt\", \"w\")\n",
    "            f.write(str(max_b))\n",
    "            f.close()\n",
    "\n",
    "            f = open(directory+\"norm_downsampled_spectrum\"+freq+\".txt\", \"w\")\n",
    "            f.write(str(prob_a_array_downsampled))\n",
    "            f.close()\n",
    "        except Exception as e:\n",
    "            print(\"Error in parsing this directory: \"+directory)\n",
    "            print(e)\n",
    "            continue\n",
    "    return 0\n",
    "        "
   ]
  },
  {
   "cell_type": "code",
   "execution_count": 7,
   "metadata": {
    "scrolled": true
   },
   "outputs": [
    {
     "data": {
      "text/plain": [
       "0"
      ]
     },
     "execution_count": 7,
     "metadata": {},
     "output_type": "execute_result"
    }
   ],
   "source": [
    "find_all_probs()"
   ]
  },
  {
   "cell_type": "code",
   "execution_count": null,
   "metadata": {},
   "outputs": [],
   "source": []
  }
 ],
 "metadata": {
  "kernelspec": {
   "display_name": "Python 3",
   "language": "python",
   "name": "python3"
  },
  "language_info": {
   "codemirror_mode": {
    "name": "ipython",
    "version": 3
   },
   "file_extension": ".py",
   "mimetype": "text/x-python",
   "name": "python",
   "nbconvert_exporter": "python",
   "pygments_lexer": "ipython3",
   "version": "3.7.3"
  }
 },
 "nbformat": 4,
 "nbformat_minor": 2
}
